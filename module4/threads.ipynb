{
 "cells": [
  {
   "cell_type": "code",
   "execution_count": 1,
   "metadata": {},
   "outputs": [],
   "source": [
    "import threading\n",
    "from time import sleep, time"
   ]
  },
  {
   "cell_type": "code",
   "execution_count": 2,
   "metadata": {},
   "outputs": [],
   "source": [
    "class MyThread(threading.Thread):\n",
    "    def __init__(self, callback):\n",
    "        self.callback = callback\n",
    "        self.want_to_terminate = False\n",
    "        threading.Thread.__init__(self)\n",
    "\n",
    "    def run(self):\n",
    "        t0 = time()\n",
    "        while not self.want_to_terminate:\n",
    "            self.callback(time() - t0)\n",
    "            sleep(.3)\n",
    "            \n",
    "def the_callback(i):\n",
    "    print('Hello', i)"
   ]
  },
  {
   "cell_type": "code",
   "execution_count": 3,
   "metadata": {},
   "outputs": [
    {
     "name": "stdout",
     "output_type": "stream",
     "text": [
      "Hello 4.76837158203125e-07\n",
      "Hello 0.3006153106689453\n",
      "Hello 0.6014094352722168\n"
     ]
    }
   ],
   "source": [
    "thread1 = MyThread(the_callback)\n",
    "\n",
    "\n",
    "thread1.start()\n"
   ]
  },
  {
   "cell_type": "code",
   "execution_count": 4,
   "metadata": {},
   "outputs": [],
   "source": [
    "thread1.want_to_terminate = True"
   ]
  },
  {
   "cell_type": "code",
   "execution_count": 14,
   "metadata": {},
   "outputs": [
    {
     "name": "stdout",
     "output_type": "stream",
     "text": [
      "Bonjour 0\n",
      "Bonjour 1\n",
      "Bonjour 2\n",
      "Bonjour 3\n",
      "Bonjour 4\n",
      "Bonjour 5\n",
      "Bonjour 6\n"
     ]
    }
   ],
   "source": [
    "thread = MyThread('Bonjour')\n",
    "thread.start()"
   ]
  },
  {
   "cell_type": "code",
   "execution_count": 15,
   "metadata": {},
   "outputs": [
    {
     "name": "stdout",
     "output_type": "stream",
     "text": [
      "Hello 7\n",
      "Hello 8\n",
      "Hello 9\n"
     ]
    }
   ],
   "source": [
    "thread.param = \"Hello\""
   ]
  },
  {
   "cell_type": "code",
   "execution_count": 24,
   "metadata": {},
   "outputs": [],
   "source": [
    "thread1.want_to_terminate = True"
   ]
  },
  {
   "cell_type": "code",
   "execution_count": 35,
   "metadata": {},
   "outputs": [
    {
     "name": "stdout",
     "output_type": "stream",
     "text": [
      "Hello 4.76837158203125e-07\n",
      "Hello 0.30092501640319824\n"
     ]
    }
   ],
   "source": [
    "thread1 = MyThread(the_callback)\n",
    "thread1.start()\n"
   ]
  },
  {
   "cell_type": "code",
   "execution_count": 36,
   "metadata": {},
   "outputs": [
    {
     "name": "stdout",
     "output_type": "stream",
     "text": [
      "Hello 0.601717472076416\n",
      "Hello 0.9022958278656006\n",
      "Hello 1.2029833793640137\n",
      "Hello 1.5038917064666748\n",
      "Hello 1.8047409057617188\n",
      "Hello 2.105461359024048\n",
      "Hello 2.40629506111145\n",
      "Hello 2.707155466079712\n",
      "Hello 3.0079538822174072\n",
      "Hello 3.3087034225463867\n",
      "Hello 3.6094160079956055\n",
      "Hello 3.910156488418579\n",
      "Hello 4.210885047912598\n",
      "Hello 4.511404514312744\n",
      "Hello 4.812021017074585\n",
      "Hello 5.112808704376221\n",
      "Hello 5.413332939147949\n",
      "Hello 5.71413254737854\n",
      "Hello 6.01480507850647\n",
      "Hello 6.316364049911499\n",
      "Hello 6.617106199264526\n",
      "Hello 6.918554306030273\n",
      "Hello 7.21936821937561\n",
      "Hello 7.520211696624756\n",
      "Hello 7.821001052856445\n",
      "Hello 8.12163782119751\n",
      "Hello 8.422418355941772\n",
      "Hello 8.723546504974365\n",
      "Hello 9.024153470993042\n",
      "Hello 9.324907541275024\n",
      "Hello 9.62551498413086\n",
      "Hello 9.926128387451172\n",
      "Hello 10.226845026016235\n",
      "Hello 10.527435064315796\n",
      "Hello 10.828907012939453\n",
      "Hello 11.130196332931519\n",
      "Hello 11.430855989456177\n"
     ]
    }
   ],
   "source": [
    "thread1 = MyThread(the_callback)"
   ]
  },
  {
   "cell_type": "code",
   "execution_count": null,
   "metadata": {},
   "outputs": [],
   "source": [
    "thread1.want_to_terminate = True"
   ]
  }
 ],
 "metadata": {
  "kernelspec": {
   "display_name": "Python 3",
   "language": "python",
   "name": "python3"
  },
  "language_info": {
   "codemirror_mode": {
    "name": "ipython",
    "version": 3
   },
   "file_extension": ".py",
   "mimetype": "text/x-python",
   "name": "python",
   "nbconvert_exporter": "python",
   "pygments_lexer": "ipython3",
   "version": "3.6.5"
  }
 },
 "nbformat": 4,
 "nbformat_minor": 2
}
