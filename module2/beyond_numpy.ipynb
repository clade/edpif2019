{
 "cells": [
  {
   "cell_type": "code",
   "execution_count": 1,
   "metadata": {},
   "outputs": [],
   "source": [
    "import numpy as np\n",
    "\n",
    "x = np.linspace(0, 1)"
   ]
  },
  {
   "cell_type": "code",
   "execution_count": null,
   "metadata": {},
   "outputs": [],
   "source": [
    "x**2 + np.sin(x)**2/np.exp(x)"
   ]
  },
  {
   "cell_type": "markdown",
   "metadata": {},
   "source": [
    "## Beyond numpy\n",
    "Some calculation cannot be efficienclty performed with numpy\n",
    "* numpy need a lot of memory\n",
    "* Operation not implemented\n",
    "\n",
    "Example : \n",
    "* Calculation of $\\pi$ (With a very very very slow formula!!!)\n",
    "$$ \\frac\\pi4 = \\sum_i \\frac{(-1)^i}{2i+1} = 1 - \\frac13 + \\frac 15 - \\frac17 + \\ldots $$\n",
    "\n",
    "* Operation similar to cumsum\n",
    "$$ y_n = f(y_{n-1}, x_n) $$"
   ]
  },
  {
   "cell_type": "code",
   "execution_count": 13,
   "metadata": {},
   "outputs": [
    {
     "name": "stdout",
     "output_type": "stream",
     "text": [
      "3.1414926535900345\n",
      "110 ms ± 1.23 ms per loop (mean ± std. dev. of 7 runs, 10 loops each)\n"
     ]
    }
   ],
   "source": [
    "# Implementation in pure python\n",
    "def calc_pi(N):\n",
    "    out = 0\n",
    "    sgn = 1\n",
    "    for i in range(N):\n",
    "        out = out + sgn/(2*i + 1)\n",
    "        sgn = -sgn\n",
    "    return 4*out\n",
    "\n",
    "print(calc_pi(10000))\n",
    "%timeit calc_pi(1000000)"
   ]
  },
  {
   "cell_type": "code",
   "execution_count": 12,
   "metadata": {},
   "outputs": [
    {
     "name": "stdout",
     "output_type": "stream",
     "text": [
      "24.8 ms ± 200 µs per loop (mean ± std. dev. of 7 runs, 10 loops each)\n"
     ]
    }
   ],
   "source": [
    "# numpy\n",
    "def calc_pi_numpy(N):\n",
    "    k = np.arange(N)\n",
    "    return -8*np.sum((k%2-.5)/(2*k+1))\n",
    "\n",
    "%timeit calc_pi_numpy(1000000)\n",
    "    "
   ]
  },
  {
   "cell_type": "markdown",
   "metadata": {},
   "source": [
    "## ctypes\n",
    "* Interface between python and shared library (dll, so)\n",
    "* Accelerate your code (this method is not recommended)\n",
    "* Use existing code !!!\n",
    "* Use closed source library\n",
    "\n",
    "No magic : you have to know C and deal with pointer, memory allocation, ..."
   ]
  },
  {
   "cell_type": "raw",
   "metadata": {},
   "source": [
    "#include <stdio.h>\n",
    "#include <stdlib.h>\n",
    "\n",
    "int calc_pi(int N, double * out){\n",
    "    int i;\n",
    "    double sgn = 1;\n",
    "    *out = 0;\n",
    "    for(i=0; i<N; i++){\n",
    "        *out += sgn/(2*i+1);\n",
    "        sgn = -sgn;\n",
    "        }\n",
    "    }\n",
    "\n",
    "// gcc -shared -o libpi.so -fPIC pi.c  -Wno-pointer-to-int-cast"
   ]
  },
  {
   "cell_type": "code",
   "execution_count": 15,
   "metadata": {},
   "outputs": [
    {
     "name": "stdout",
     "output_type": "stream",
     "text": [
      "4.45 ms ± 19.5 µs per loop (mean ± std. dev. of 7 runs, 100 loops each)\n"
     ]
    }
   ],
   "source": [
    "import ctypes\n",
    "lib = ctypes.cdll.LoadLibrary('../calc_pi/libpi.so')\n",
    "\n",
    "# Raw function\n",
    "_calc_pi = lib.calc_pi\n",
    "\n",
    "# Wrapper to be python friendly\n",
    "def calc_pi_ctypes(N):\n",
    "    out = ctypes.c_double(0)\n",
    "    _calc_pi(N, ctypes.byref(out))\n",
    "    return out.value*4\n",
    "\n",
    "%timeit calc_pi_ctypes(10**6)"
   ]
  },
  {
   "cell_type": "markdown",
   "metadata": {},
   "source": [
    "## Numba \n",
    "Compile your python code for free"
   ]
  },
  {
   "cell_type": "code",
   "execution_count": 19,
   "metadata": {},
   "outputs": [
    {
     "name": "stdout",
     "output_type": "stream",
     "text": [
      "4.49 ms ± 40.9 µs per loop (mean ± std. dev. of 7 runs, 100 loops each)\n"
     ]
    }
   ],
   "source": [
    "import numba\n",
    "\n",
    "@numba.jit(numba.float64(numba.int32))\n",
    "def calc_pi_numba(N):\n",
    "    out = 0\n",
    "    sgn = 1\n",
    "    for i in range(N):\n",
    "        out = out + sgn/(2*i + 1)\n",
    "        sgn = -sgn\n",
    "    return 4*out\n",
    "\n",
    "%timeit calc_pi_numba(10**6)"
   ]
  },
  {
   "cell_type": "code",
   "execution_count": null,
   "metadata": {},
   "outputs": [],
   "source": []
  }
 ],
 "metadata": {
  "kernelspec": {
   "display_name": "Python 3",
   "language": "python",
   "name": "python3"
  },
  "language_info": {
   "codemirror_mode": {
    "name": "ipython",
    "version": 3
   },
   "file_extension": ".py",
   "mimetype": "text/x-python",
   "name": "python",
   "nbconvert_exporter": "python",
   "pygments_lexer": "ipython3",
   "version": "3.6.5"
  }
 },
 "nbformat": 4,
 "nbformat_minor": 1
}
