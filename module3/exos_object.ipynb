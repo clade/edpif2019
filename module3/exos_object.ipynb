{
 "cells": [
  {
   "cell_type": "code",
   "execution_count": 48,
   "metadata": {},
   "outputs": [],
   "source": [
    "class Book(object):\n",
    "    def __init__(self, title, author, year):\n",
    "        self.title = title\n",
    "        self.author = author\n",
    "        self.year = year\n",
    "        \n",
    "    def __repr__(self):\n",
    "        return \"Book({!r}, {!r}, {})\".format(self.title,\n",
    "                                        self.author,\n",
    "                                        self.year)\n",
    "    \n",
    "    def __str__(self):\n",
    "        return \"{}, {} ({})\".format(self.title,\n",
    "                                        self.author,\n",
    "                                        self.year)\n",
    "    def to_latex(self):\n",
    "        return r\"\\textit{{ {} }}, {} ({})\".format(self.title,\n",
    "                                        self.author,\n",
    "                                        self.year)\n",
    "\n",
    "\n",
    "class Bibliography(object):\n",
    "    def __init__(self, list_of_book):\n",
    "        self.list_of_book = list_of_book\n",
    "        \n",
    "    def __repr__(self):\n",
    "        return 'Bibliography({!r})'.format(self.list_of_book)\n",
    "\n",
    "    def __str__(self):\n",
    "        return '\\n'.join([str(elm) for elm in self.list_of_book])\n",
    "\n",
    "    def append(self, item):\n",
    "        self.list_of_book.append(item)\n",
    "        \n",
    "    def to_latex(self):\n",
    "        output = r\"\"\"\\begin{{itemize}} {} \\end{{itemize}}\"\"\"\n",
    "        items = '\\n'.join(['\\item '+elm.to_latex()\n",
    "                           for elm in self.list_of_book])\n",
    "        return output.format(items)"
   ]
  },
  {
   "cell_type": "code",
   "execution_count": 49,
   "metadata": {},
   "outputs": [
    {
     "data": {
      "text/plain": [
       "'\\\\textit{ A very nice book }, F. Dupont (2014)'"
      ]
     },
     "execution_count": 49,
     "metadata": {},
     "output_type": "execute_result"
    }
   ],
   "source": [
    "book1 = Book('A very nice book', \"F. Dupont\", 2014)\n",
    "book2 = Book('A very smart book', \"A. Einstein\", 1923)\n",
    "book1.to_latex()"
   ]
  },
  {
   "cell_type": "code",
   "execution_count": 50,
   "metadata": {},
   "outputs": [],
   "source": [
    "my_bibliography = Bibliography([book1, book2])"
   ]
  },
  {
   "cell_type": "code",
   "execution_count": 51,
   "metadata": {},
   "outputs": [
    {
     "data": {
      "text/plain": [
       "Bibliography([Book('A very nice book', 'F. Dupont', 2014), Book('A very smart book', 'A. Einstein', 1923)])"
      ]
     },
     "execution_count": 51,
     "metadata": {},
     "output_type": "execute_result"
    }
   ],
   "source": [
    "my_bibliography"
   ]
  },
  {
   "cell_type": "code",
   "execution_count": 52,
   "metadata": {},
   "outputs": [
    {
     "name": "stdout",
     "output_type": "stream",
     "text": [
      "A very nice book, F. Dupont (2014)\n",
      "A very smart book, A. Einstein (1923)\n"
     ]
    }
   ],
   "source": [
    "print(my_bibliography)"
   ]
  },
  {
   "cell_type": "code",
   "execution_count": 53,
   "metadata": {},
   "outputs": [
    {
     "name": "stdout",
     "output_type": "stream",
     "text": [
      "\\begin{itemize} \\item \\textit{ A very nice book }, F. Dupont (2014)\n",
      "\\item \\textit{ A very smart book }, A. Einstein (1923) \\end{itemize}\n"
     ]
    }
   ],
   "source": [
    "print(my_bibliography.to_latex())"
   ]
  },
  {
   "cell_type": "code",
   "execution_count": null,
   "metadata": {},
   "outputs": [],
   "source": []
  }
 ],
 "metadata": {
  "kernelspec": {
   "display_name": "Python 3",
   "language": "python",
   "name": "python3"
  },
  "language_info": {
   "codemirror_mode": {
    "name": "ipython",
    "version": 3
   },
   "file_extension": ".py",
   "mimetype": "text/x-python",
   "name": "python",
   "nbconvert_exporter": "python",
   "pygments_lexer": "ipython3",
   "version": "3.6.5"
  }
 },
 "nbformat": 4,
 "nbformat_minor": 2
}
