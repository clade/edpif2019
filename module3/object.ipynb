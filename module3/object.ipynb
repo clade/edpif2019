{
 "cells": [
  {
   "cell_type": "code",
   "execution_count": 1,
   "metadata": {},
   "outputs": [],
   "source": [
    "z = 1 + 3J"
   ]
  },
  {
   "cell_type": "code",
   "execution_count": 2,
   "metadata": {},
   "outputs": [
    {
     "data": {
      "text/plain": [
       "3.0"
      ]
     },
     "execution_count": 2,
     "metadata": {},
     "output_type": "execute_result"
    }
   ],
   "source": [
    "z.imag"
   ]
  },
  {
   "cell_type": "code",
   "execution_count": 3,
   "metadata": {},
   "outputs": [
    {
     "data": {
      "text/plain": [
       "(1-3j)"
      ]
     },
     "execution_count": 3,
     "metadata": {},
     "output_type": "execute_result"
    }
   ],
   "source": [
    "z.conjugate()"
   ]
  },
  {
   "cell_type": "code",
   "execution_count": 152,
   "metadata": {},
   "outputs": [],
   "source": [
    "from math import sqrt, atan2\n",
    "import numbers\n",
    "\n",
    "class Complex(object):\n",
    "    def __init__(self, real_part, imaginary_part):\n",
    "        self.re = real_part\n",
    "        self.im = imaginary_part\n",
    "\n",
    "    def norm(self):\n",
    "        return sqrt(self.re**2 + self.im**2)\n",
    "    \n",
    "    def conjugate(self):\n",
    "        return Complex(self.re, -self.im)\n",
    "    \n",
    "    def multiply_by_a_number(self, x):\n",
    "        return Complex(x*self.re, x*self.im)\n",
    "    \n",
    "    def __mul__(self, other):\n",
    "        if isinstance(other, numbers.Number):\n",
    "            return self.multiply_by_a_number(other)\n",
    "        if isinstance(other, Complex):\n",
    "            return Complex(self.re*other.re - self.im*other.im,\n",
    "                          self.re*other.im + self.im*other.re)\n",
    "        return NotImplemented\n",
    "        \n",
    "    def __rmul__(self, other):\n",
    "        return self*other\n",
    "        \n",
    "    def __repr__(self):\n",
    "        return \"Complex({}, {})\".format(self.re, self.im)\n",
    "    \n",
    "    def __str__(self):\n",
    "        if self.im>0:\n",
    "            return '{} + {}i'.format(self.re, self.im)\n",
    "        else:\n",
    "            return '{} - {}i'.format(self.re, -self.im)\n",
    "        \n",
    "    def __getitem__(self, index):\n",
    "        if index==0:\n",
    "            return self.re\n",
    "        if index==1:\n",
    "            return self.im\n",
    "        raise Exception('Index shoud be 0 or 1')\n",
    "        \n",
    "    def __eq__(self, other):\n",
    "        if isinstance(other, Complex):\n",
    "            return (self.re==other.re) and (self.im==other.im)\n",
    "        return False\n",
    "    \n",
    "    @property\n",
    "    def r(self):\n",
    "        return self.norm()\n",
    "    \n",
    "    @property\n",
    "    def theta(self):\n",
    "        return atan2(self.im, self.re)\n",
    "    \n",
    "class PureImaginary(Complex):\n",
    "    def __init__(self, imaginary_part):\n",
    "        Complex.__init__(self, 0, imaginary_part)\n",
    "        \n",
    "    def __repr__(self):\n",
    "        return 'PureImaginary({})'.format(self.im)"
   ]
  },
  {
   "cell_type": "code",
   "execution_count": 154,
   "metadata": {},
   "outputs": [
    {
     "data": {
      "text/plain": [
       "Complex(-9, 3)"
      ]
     },
     "execution_count": 154,
     "metadata": {},
     "output_type": "execute_result"
    }
   ],
   "source": [
    "z = Complex(1, 3)\n",
    "z2 = PureImaginary(3)\n",
    "z2*z"
   ]
  },
  {
   "cell_type": "code",
   "execution_count": 131,
   "metadata": {},
   "outputs": [
    {
     "data": {
      "text/plain": [
       "True"
      ]
     },
     "execution_count": 131,
     "metadata": {},
     "output_type": "execute_result"
    }
   ],
   "source": [
    "z1 = Complex(1, 3)\n",
    "z2 = Complex(1, 3)\n",
    "z3 = z1\n",
    "\n",
    "z1==z2"
   ]
  },
  {
   "cell_type": "code",
   "execution_count": 124,
   "metadata": {},
   "outputs": [
    {
     "data": {
      "text/plain": [
       "3"
      ]
     },
     "execution_count": 124,
     "metadata": {},
     "output_type": "execute_result"
    }
   ],
   "source": [
    "z = Complex(1, 3)\n",
    "z[1]"
   ]
  },
  {
   "cell_type": "code",
   "execution_count": 119,
   "metadata": {},
   "outputs": [
    {
     "name": "stdout",
     "output_type": "stream",
     "text": [
      "3.1415 + 9.4245i\n",
      "10 - 0i\n"
     ]
    },
    {
     "data": {
      "text/plain": [
       "Complex(3.1415, 9.4245)"
      ]
     },
     "execution_count": 119,
     "metadata": {},
     "output_type": "execute_result"
    }
   ],
   "source": [
    "z = Complex(1, 3)\n",
    "#z.multiply_by_a_number(3.1415)\n",
    "print(z*3.1415)\n",
    "print(z*z.conjugate())\n",
    "3.1415*z"
   ]
  },
  {
   "cell_type": "code",
   "execution_count": 90,
   "metadata": {},
   "outputs": [
    {
     "name": "stdout",
     "output_type": "stream",
     "text": [
      "1\n",
      "3.1622776601683795\n"
     ]
    }
   ],
   "source": [
    "z = Complex(1, 3)\n",
    "print(z.re)\n",
    "print(z.norm())"
   ]
  },
  {
   "cell_type": "code",
   "execution_count": 91,
   "metadata": {},
   "outputs": [
    {
     "data": {
      "text/plain": [
       "Complex(1, -3)"
      ]
     },
     "execution_count": 91,
     "metadata": {},
     "output_type": "execute_result"
    }
   ],
   "source": [
    "z.conjugate()"
   ]
  },
  {
   "cell_type": "code",
   "execution_count": 88,
   "metadata": {},
   "outputs": [
    {
     "name": "stdout",
     "output_type": "stream",
     "text": [
      "1 + 3i\n",
      "1 - 3i\n"
     ]
    }
   ],
   "source": [
    "print(z)\n",
    "print(z.conjugate())"
   ]
  },
  {
   "cell_type": "code",
   "execution_count": 50,
   "metadata": {},
   "outputs": [
    {
     "data": {
      "text/plain": [
       "True"
      ]
     },
     "execution_count": 50,
     "metadata": {},
     "output_type": "execute_result"
    }
   ],
   "source": [
    "isinstance(z, Complex)"
   ]
  },
  {
   "cell_type": "code",
   "execution_count": 51,
   "metadata": {},
   "outputs": [
    {
     "data": {
      "text/plain": [
       "3.2310988842807022"
      ]
     },
     "execution_count": 51,
     "metadata": {},
     "output_type": "execute_result"
    }
   ],
   "source": [
    "z.re = 1.2\n",
    "z.im = 3\n",
    "z.norm()"
   ]
  },
  {
   "cell_type": "code",
   "execution_count": 18,
   "metadata": {},
   "outputs": [],
   "source": [
    "#z.a_stupid_attribute = \"Hello\""
   ]
  },
  {
   "cell_type": "code",
   "execution_count": 44,
   "metadata": {},
   "outputs": [],
   "source": [
    "#z.a = \"Bonjour\""
   ]
  },
  {
   "cell_type": "code",
   "execution_count": 45,
   "metadata": {},
   "outputs": [
    {
     "data": {
      "text/plain": [
       "{'re': 1.2, 'im': 3, 'a': 'Bonjour'}"
      ]
     },
     "execution_count": 45,
     "metadata": {},
     "output_type": "execute_result"
    }
   ],
   "source": [
    "z.__dict__"
   ]
  },
  {
   "cell_type": "code",
   "execution_count": 46,
   "metadata": {},
   "outputs": [],
   "source": [
    "z2 = Complex()"
   ]
  },
  {
   "cell_type": "code",
   "execution_count": 47,
   "metadata": {},
   "outputs": [
    {
     "data": {
      "text/plain": [
       "'Hello'"
      ]
     },
     "execution_count": 47,
     "metadata": {},
     "output_type": "execute_result"
    }
   ],
   "source": [
    "#z2.a"
   ]
  },
  {
   "cell_type": "code",
   "execution_count": 64,
   "metadata": {},
   "outputs": [
    {
     "data": {
      "text/plain": [
       "<__main__.Complex at 0x7fd8245af400>"
      ]
     },
     "execution_count": 64,
     "metadata": {},
     "output_type": "execute_result"
    }
   ],
   "source": [
    "z2"
   ]
  },
  {
   "cell_type": "code",
   "execution_count": 79,
   "metadata": {},
   "outputs": [
    {
     "name": "stdout",
     "output_type": "stream",
     "text": [
      "Hello\n"
     ]
    }
   ],
   "source": [
    "s = \"Hello\"\n",
    "print(s)"
   ]
  },
  {
   "cell_type": "code",
   "execution_count": 100,
   "metadata": {},
   "outputs": [
    {
     "data": {
      "text/plain": [
       "'1 + 3i'"
      ]
     },
     "execution_count": 100,
     "metadata": {},
     "output_type": "execute_result"
    }
   ],
   "source": [
    "str(z)"
   ]
  },
  {
   "cell_type": "code",
   "execution_count": 101,
   "metadata": {},
   "outputs": [
    {
     "data": {
      "text/plain": [
       "'Complex(1, 3)'"
      ]
     },
     "execution_count": 101,
     "metadata": {},
     "output_type": "execute_result"
    }
   ],
   "source": [
    "repr(z)"
   ]
  },
  {
   "cell_type": "code",
   "execution_count": 111,
   "metadata": {},
   "outputs": [],
   "source": [
    "import numpy as np\n",
    "from numpy import array\n",
    "a = np.random.rand(3, 3)"
   ]
  },
  {
   "cell_type": "code",
   "execution_count": 112,
   "metadata": {},
   "outputs": [
    {
     "data": {
      "text/plain": [
       "'[[0.59249553 0.19985384 0.5164116 ]\\n [0.01377854 0.05958016 0.99287052]\\n [0.81275244 0.53460939 0.62396789]]'"
      ]
     },
     "execution_count": 112,
     "metadata": {},
     "output_type": "execute_result"
    }
   ],
   "source": [
    "str(a)"
   ]
  },
  {
   "cell_type": "code",
   "execution_count": 113,
   "metadata": {},
   "outputs": [
    {
     "name": "stdout",
     "output_type": "stream",
     "text": [
      "array([[0.59249553, 0.19985384, 0.5164116 ],\n",
      "       [0.01377854, 0.05958016, 0.99287052],\n",
      "       [0.81275244, 0.53460939, 0.62396789]])\n"
     ]
    }
   ],
   "source": [
    "print(repr(a))"
   ]
  },
  {
   "cell_type": "code",
   "execution_count": 114,
   "metadata": {},
   "outputs": [
    {
     "data": {
      "text/plain": [
       "array([[0.32921364, 0.10298433, 0.83120605],\n",
       "       [0.84227139, 0.30174352, 0.6019039 ],\n",
       "       [0.01512626, 0.05772147, 0.88824969]])"
      ]
     },
     "execution_count": 114,
     "metadata": {},
     "output_type": "execute_result"
    }
   ],
   "source": [
    "array([[0.32921364, 0.10298433, 0.83120605],\n",
    "       [0.84227139, 0.30174352, 0.6019039 ],\n",
    "       [0.01512626, 0.05772147, 0.88824969]])"
   ]
  },
  {
   "cell_type": "code",
   "execution_count": 132,
   "metadata": {},
   "outputs": [],
   "source": [
    "def multiplication(a, b):\n",
    "    out = a.__mul__(b)\n",
    "    if out!=NotImplemented:\n",
    "        return out\n",
    "    out = b.__rmul__(a)\n",
    "    if out!=NotImplemented:\n",
    "        return out\n",
    "    raise Exception('Cannot multipliy {} by {}'.format(type(a), type(b))\n",
    "                   )\n",
    "    "
   ]
  },
  {
   "cell_type": "code",
   "execution_count": 137,
   "metadata": {},
   "outputs": [
    {
     "data": {
      "text/plain": [
       "Complex(10, 0)"
      ]
     },
     "execution_count": 137,
     "metadata": {},
     "output_type": "execute_result"
    }
   ],
   "source": [
    "multiplication(z, z.conjugate())"
   ]
  },
  {
   "cell_type": "code",
   "execution_count": 156,
   "metadata": {},
   "outputs": [
    {
     "data": {
      "text/plain": [
       "<function __main__.Complex.norm(self)>"
      ]
     },
     "execution_count": 156,
     "metadata": {},
     "output_type": "execute_result"
    }
   ],
   "source": [
    "Complex.norm"
   ]
  },
  {
   "cell_type": "code",
   "execution_count": null,
   "metadata": {},
   "outputs": [],
   "source": []
  }
 ],
 "metadata": {
  "kernelspec": {
   "display_name": "Python 3",
   "language": "python",
   "name": "python3"
  },
  "language_info": {
   "codemirror_mode": {
    "name": "ipython",
    "version": 3
   },
   "file_extension": ".py",
   "mimetype": "text/x-python",
   "name": "python",
   "nbconvert_exporter": "python",
   "pygments_lexer": "ipython3",
   "version": "3.6.5"
  }
 },
 "nbformat": 4,
 "nbformat_minor": 2
}
